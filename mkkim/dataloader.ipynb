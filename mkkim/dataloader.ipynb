{
  "nbformat": 4,
  "nbformat_minor": 0,
  "metadata": {
    "colab": {
      "name": "미니 해커톤1.ipynb",
      "provenance": [],
      "collapsed_sections": [],
      "machine_shape": "hm",
      "authorship_tag": "ABX9TyOqkAhZra2Cluv6JNrqC+4y",
      "include_colab_link": true
    },
    "kernelspec": {
      "name": "python3",
      "display_name": "Python 3"
    },
    "language_info": {
      "name": "python"
    }
  },
  "cells": [
    {
      "cell_type": "markdown",
      "metadata": {
        "id": "view-in-github",
        "colab_type": "text"
      },
      "source": [
        "<a href=\"https://colab.research.google.com/github/dlgur1994/Detecting-and-Classifying-Car-Damage/blob/main/mkkim/dataloader.ipynb\" target=\"_parent\"><img src=\"https://colab.research.google.com/assets/colab-badge.svg\" alt=\"Open In Colab\"/></a>"
      ]
    },
    {
      "cell_type": "code",
      "metadata": {
        "colab": {
          "base_uri": "https://localhost:8080/"
        },
        "id": "6VjIggS-xs21",
        "outputId": "6267e5c3-2119-424e-f6fe-942419421895"
      },
      "source": [
        "from google.colab import drive\n",
        "drive.mount('/content/gdrive')"
      ],
      "execution_count": 2,
      "outputs": [
        {
          "output_type": "stream",
          "name": "stdout",
          "text": [
            "Mounted at /content/gdrive\n"
          ]
        }
      ]
    },
    {
      "cell_type": "code",
      "metadata": {
        "id": "ROLIS2v5yTOe"
      },
      "source": [
        "!cp /content/gdrive/MyDrive/KIM123/dataset_accida_segmentation_dataset_v1.zip /content/\n",
        "! unzip  -qq /content/dataset_accida_segmentation_dataset_v1.zip"
      ],
      "execution_count": 3,
      "outputs": []
    },
    {
      "cell_type": "markdown",
      "metadata": {
        "id": "lEhtFHozzEvV"
      },
      "source": [
        "# 데이터 살펴보기 "
      ]
    },
    {
      "cell_type": "code",
      "metadata": {
        "id": "RnnLh-Nzyk8o"
      },
      "source": [
        "# Torch\n",
        "import torch\n",
        "from torch.utils.data import Dataset\n",
        "from torchvision import datasets\n",
        "from torchvision.transforms import ToTensor\n",
        "from torchvision.io import read_image\n",
        "\n",
        "# Helper libraries\n",
        "import os\n",
        "import numpy as np\n",
        "import matplotlib.pyplot as plt\n",
        "import pandas as pd\n",
        "import tensorflow_datasets as tfds\n",
        "from PIL import Image"
      ],
      "execution_count": 4,
      "outputs": []
    },
    {
      "cell_type": "code",
      "metadata": {
        "id": "PJqIthuM4fCQ"
      },
      "source": [
        "root = '/content/accida_segmentation_dataset_v1/dent/train'\n",
        "imgs = list(sorted(os.listdir(os.path.join(root, \"images\"))))\n"
      ],
      "execution_count": 5,
      "outputs": []
    },
    {
      "cell_type": "code",
      "metadata": {
        "id": "YQ9Udtrn1qOo"
      },
      "source": [
        "class SocarDataset(torch.utils.data.Dataset):\n",
        "\n",
        "    def __init__(self, root, class,transforms=None):\n",
        "        self.root = root\n",
        "        self.transforms = transforms\n",
        "        # 모든 이미지 파일들을 읽고, 정렬하여\n",
        "        # 이미지와 분할 마스크 정렬을 확인합니다\n",
        "        self.imgs = list(sorted(os.listdir(os.path.join(root, \"images\"))))\n",
        "        self.masks = list(sorted(os.listdir(os.path.join(root, \"masks\"))))\n",
        "\n",
        "\n",
        "\n",
        "    \n",
        "\n",
        "\n",
        "    def __getitem__(self, idx):\n",
        "        img_path = os.path.join(self.root, \"images\", self.imgs[idx])\n",
        "        mask_path = os.path.join(self.root, \"masks\", self.masks[idx])\n",
        "        img = Image.open(img_path).convert(\"RGB\")\n",
        "        # 분할 마스크는 RGB로 변환하지 않음\n",
        "        # 각 색상은 다른 인스턴스에 해당하며, 0은 배경에 해당 -> 근데 우리데이터는 흰검 밖에 없어서,,\n",
        "        mask = Image.open(mask_path)\n",
        "        # numpy 배열을 PIL 이미지로 변환합니다\n",
        "        mask = np.array(mask)\n",
        "        # 인스턴스들은 다른 색들로 인코딩 되어 있습니다.\n",
        "        obj_ids = np.unique(mask)\n",
        "        # 첫번째 id 는 배경이라 제거합니다\n",
        "        #obj_ids = obj_ids[1:]\n",
        "        \n",
        "\n",
        "        # 컬러 인코딩된 마스크를 바이너리 마스크 세트로 나눕니다\n",
        "        masks = mask == obj_ids[:, None, None]\n",
        "\n",
        "        # 각 마스크의 바운딩 박스 좌표를 얻습니다\n",
        "        num_objs = len(obj_ids)\n",
        "        print(num_objs)\n",
        "        boxes = []\n",
        "        for i in range(num_objs):\n",
        "            pos = np.where(masks[i])\n",
        "            xmin = np.min(pos[1])\n",
        "            xmax = np.max(pos[1])\n",
        "            ymin = np.min(pos[0])\n",
        "            ymax = np.max(pos[0])\n",
        "            boxes.append([xmin, ymin, xmax, ymax])\n",
        "\n",
        "        # 모든 것을 torch.Tensor 타입으로 변환합니다\n",
        "        boxes = torch.as_tensor(boxes, dtype=torch.float32)\n",
        "        # 객체 종류는 한 종류만 존재합니다(역자주: 예제에서는 사람만이 대상입니다)\n",
        "        labels = torch.ones((num_objs,), dtype=torch.int64)\n",
        "        masks = torch.as_tensor(masks, dtype=torch.uint8)\n",
        "\n",
        "        image_id = torch.tensor([idx])\n",
        "        area = (boxes[:, 3] - boxes[:, 1]) * (boxes[:, 2] - boxes[:, 0])\n",
        "        # 모든 인스턴스는 군중(crowd) 상태가 아님을 가정합니다\n",
        "        iscrowd = torch.zeros((num_objs,), dtype=torch.int64)\n",
        "\n",
        "        target = {}\n",
        "        target[\"boxes\"] = boxes\n",
        "        target[\"labels\"] = labels\n",
        "        target[\"masks\"] = masks\n",
        "        target[\"image_id\"] = image_id\n",
        "        target[\"area\"] = area\n",
        "        target[\"iscrowd\"] = iscrowd\n",
        "\n",
        "        if self.transforms is not None:\n",
        "            img, target = self.transforms(img, target)\n",
        "\n",
        "        return img, target\n",
        "\n",
        "\n",
        "    def __len__(self):\n",
        "        return len(self.imgs)\n",
        "    \n",
        "    # Dent/Scratch/Spacing - 지금 코드에서는 안필요함\n",
        "    def get_label(data_path_list):\n",
        "        label_list = []\n",
        "        for path in data_path_list:\n",
        "            # 앞에서 3번째가 class\n",
        "            label_list.append(path.split('/')[3])\n",
        "        return label_list\n"
      ],
      "execution_count": 9,
      "outputs": []
    },
    {
      "cell_type": "code",
      "metadata": {
        "colab": {
          "base_uri": "https://localhost:8080/",
          "height": 262
        },
        "id": "-I7cVtluvHlE",
        "outputId": "1642223f-b989-40d8-f300-69807e765a8b"
      },
      "source": [
        "mask_path = os.path.join(\"/content/accida_segmentation_dataset_v1/dent/train\", \"masks\", \"20190223_11917_20255505_7f990d082050b9753fc4810c7bf6e1e4.jpg\")\n",
        "testmask = Image.open(mask_path)\n",
        "testmask = np.array(testmask)\n",
        "obj_ids = np.where(testmask!=0,testmask)\n",
        "obj_ids"
      ],
      "execution_count": 23,
      "outputs": [
        {
          "output_type": "error",
          "ename": "ValueError",
          "evalue": "ignored",
          "traceback": [
            "\u001b[0;31m---------------------------------------------------------------------------\u001b[0m",
            "\u001b[0;31mValueError\u001b[0m                                Traceback (most recent call last)",
            "\u001b[0;32m<ipython-input-23-791cb5d20574>\u001b[0m in \u001b[0;36m<module>\u001b[0;34m()\u001b[0m\n\u001b[1;32m      2\u001b[0m \u001b[0mtestmask\u001b[0m \u001b[0;34m=\u001b[0m \u001b[0mImage\u001b[0m\u001b[0;34m.\u001b[0m\u001b[0mopen\u001b[0m\u001b[0;34m(\u001b[0m\u001b[0mmask_path\u001b[0m\u001b[0;34m)\u001b[0m\u001b[0;34m\u001b[0m\u001b[0;34m\u001b[0m\u001b[0m\n\u001b[1;32m      3\u001b[0m \u001b[0mtestmask\u001b[0m \u001b[0;34m=\u001b[0m \u001b[0mnp\u001b[0m\u001b[0;34m.\u001b[0m\u001b[0marray\u001b[0m\u001b[0;34m(\u001b[0m\u001b[0mtestmask\u001b[0m\u001b[0;34m)\u001b[0m\u001b[0;34m\u001b[0m\u001b[0;34m\u001b[0m\u001b[0m\n\u001b[0;32m----> 4\u001b[0;31m \u001b[0mobj_ids\u001b[0m \u001b[0;34m=\u001b[0m \u001b[0mnp\u001b[0m\u001b[0;34m.\u001b[0m\u001b[0mwhere\u001b[0m\u001b[0;34m(\u001b[0m\u001b[0mtestmask\u001b[0m\u001b[0;34m!=\u001b[0m\u001b[0;36m0\u001b[0m\u001b[0;34m,\u001b[0m\u001b[0mtestmask\u001b[0m\u001b[0;34m)\u001b[0m\u001b[0;34m\u001b[0m\u001b[0;34m\u001b[0m\u001b[0m\n\u001b[0m\u001b[1;32m      5\u001b[0m \u001b[0mobj_ids\u001b[0m\u001b[0;34m\u001b[0m\u001b[0;34m\u001b[0m\u001b[0m\n",
            "\u001b[0;32m<__array_function__ internals>\u001b[0m in \u001b[0;36mwhere\u001b[0;34m(*args, **kwargs)\u001b[0m\n",
            "\u001b[0;31mValueError\u001b[0m: either both or neither of x and y should be given"
          ]
        }
      ]
    },
    {
      "cell_type": "markdown",
      "metadata": {
        "id": "e5zi3Vmxzqrq"
      },
      "source": [
        "## Dent"
      ]
    },
    {
      "cell_type": "code",
      "metadata": {
        "colab": {
          "base_uri": "https://localhost:8080/"
        },
        "id": "qJiBXGJuzJ_R",
        "outputId": "c8a25296-7edd-4ee7-9e0d-936f14b6a726"
      },
      "source": [
        "img_path = \"/content/accida_segmentation_dataset_v1/dent/\"\n",
        "\n",
        "train = SocarDataset(\n",
        "        root=img_path+\"train\",\n",
        "        transforms=None\n",
        "    )\n",
        "\n",
        "test = SocarDataset(\n",
        "        root=img_path+\"test\",\n",
        "        transforms=None\n",
        "    )\n",
        "\n",
        "valid = SocarDataset(root=img_path+\"valid\",\n",
        "        transforms=None\n",
        "    )\n",
        "\n",
        "\n",
        "trainloader = torch.utils.data.DataLoader(\n",
        "    train,\n",
        "    batch_size=4,\n",
        "    shuffle=False\n",
        ")\n",
        "\n",
        "testloader = torch.utils.data.DataLoader(\n",
        "    test,\n",
        "    batch_size=4,\n",
        "    shuffle=False\n",
        ")\n",
        "\n",
        "validloader = torch.utils.data.DataLoader(\n",
        "    valid,\n",
        "    batch_size=4,\n",
        "    shuffle=False\n",
        ")\n",
        "\n",
        "print('train 이미지들의 개수: ', len(train))\n",
        "print('test 이미지들의 개수: ',  len(test))\n",
        "print('valid 이미지들의 개수: ',  len(valid))"
      ],
      "execution_count": 10,
      "outputs": [
        {
          "output_type": "stream",
          "name": "stdout",
          "text": [
            "train 이미지들의 개수:  2132\n",
            "test 이미지들의 개수:  267\n",
            "valid 이미지들의 개수:  267\n"
          ]
        }
      ]
    },
    {
      "cell_type": "code",
      "metadata": {
        "colab": {
          "base_uri": "https://localhost:8080/",
          "height": 35
        },
        "id": "eh0UENOhXcG5",
        "outputId": "c09bd389-ee33-410a-f1f5-3d82ec8bb956"
      },
      "source": [
        "train.masks[11]"
      ],
      "execution_count": 12,
      "outputs": [
        {
          "output_type": "execute_result",
          "data": {
            "application/vnd.google.colaboratory.intrinsic+json": {
              "type": "string"
            },
            "text/plain": [
              "'20180101_10778_10632865_f61d4ae8ecaa12e9e58411e24d7d0898_augmented2.jpg'"
            ]
          },
          "metadata": {},
          "execution_count": 12
        }
      ]
    },
    {
      "cell_type": "code",
      "metadata": {
        "id": "zJwnRygh9sdI"
      },
      "source": [
        ""
      ],
      "execution_count": null,
      "outputs": []
    }
  ]
}